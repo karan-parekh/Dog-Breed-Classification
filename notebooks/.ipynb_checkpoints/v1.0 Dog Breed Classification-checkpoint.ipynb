{
 "cells": [
  {
   "cell_type": "markdown",
   "metadata": {
    "id": "xsJIjRu7qWmL"
   },
   "source": [
    "# Notebook V1.0 Base model - 67% accuracy\n",
    "notebook is hosted on: https://colab.research.google.com/drive/1zI9G_oxc3MgtywFGmJHDnZcZYK416JXO#scrollTo=vVUQNfll3MwR"
   ]
  },
  {
   "cell_type": "markdown",
   "metadata": {},
   "source": [
    "**The first two cells are used to mount the data when the google colab session expires. Please ignore**"
   ]
  },
  {
   "cell_type": "code",
   "execution_count": 1,
   "metadata": {
    "colab": {
     "base_uri": "https://localhost:8080/"
    },
    "executionInfo": {
     "elapsed": 29893,
     "status": "ok",
     "timestamp": 1616057999079,
     "user": {
      "displayName": "Karan Parekh",
      "photoUrl": "",
      "userId": "11632163322674208258"
     },
     "user_tz": -330
    },
    "id": "14Zkx1rBqwYk",
    "outputId": "db101dbf-2c7a-488d-e5c4-ec82615a262b"
   },
   "outputs": [
    {
     "name": "stdout",
     "output_type": "stream",
     "text": [
      "Mounted at /content/drive\n"
     ]
    }
   ],
   "source": [
    "# from google.colab import drive\n",
    "# drive.mount('/content/drive')"
   ]
  },
  {
   "cell_type": "code",
   "execution_count": null,
   "metadata": {
    "id": "rals8lhyR7JE"
   },
   "outputs": [],
   "source": [
    "# !unzip /content/drive/MyDrive/dog_breeds/dog-breed-identification.zip"
   ]
  },
  {
   "cell_type": "markdown",
   "metadata": {
    "id": "Kib11c02Tan2"
   },
   "source": [
    "# IMPORTS"
   ]
  },
  {
   "cell_type": "code",
   "execution_count": null,
   "metadata": {
    "id": "vVUQNfll3MwR"
   },
   "outputs": [],
   "source": [
    "import gc\n",
    "\n",
    "# for warnings\n",
    "import warnings\n",
    "warnings.filterwarnings(\"ignore\")\n",
    "\n",
    "# utility libraries\n",
    "import os\n",
    "import copy\n",
    "import tqdm\n",
    "import numpy as np \n",
    "import pandas as pd \n",
    "import cv2, random, time, shutil, csv\n",
    "import tensorflow as tf\n",
    "import math\n",
    "\n",
    "import tensorflow.keras as K\n",
    "import tensorflow as tf\n",
    "\n",
    "# keras libraries\n",
    "import keras\n",
    "from keras.preprocessing.image import ImageDataGenerator\n",
    "from keras.models import Model\n",
    "from keras.layers import BatchNormalization, Dense, GlobalAveragePooling2D, Lambda, Dropout, InputLayer, Input\n",
    "from keras.utils import to_categorical\n",
    "from keras import backend as kb\n",
    "\n",
    "# sklearn libs\n",
    "from sklearn.model_selection import train_test_split"
   ]
  },
  {
   "cell_type": "markdown",
   "metadata": {
    "id": "mQh5NUZdTgZ3"
   },
   "source": [
    "## READING IMAGES\n",
    "**Narrowing down the training data to just 10 breeds as required by the assignment**"
   ]
  },
  {
   "cell_type": "code",
   "execution_count": null,
   "metadata": {
    "colab": {
     "base_uri": "https://localhost:8080/"
    },
    "executionInfo": {
     "elapsed": 13854,
     "status": "ok",
     "timestamp": 1615925483596,
     "user": {
      "displayName": "Karan Parekh",
      "photoUrl": "",
      "userId": "11632163322674208258"
     },
     "user_tz": -330
    },
    "id": "A2ErUb88vd-0",
    "outputId": "5b302cd8-5590-4d6b-c5fb-46be5bf2f07e"
   },
   "outputs": [
    {
     "name": "stdout",
     "output_type": "stream",
     "text": [
      "No. of classes read - 9\n"
     ]
    },
    {
     "name": "stderr",
     "output_type": "stream",
     "text": [
      "100%|██████████| 10222/10222 [00:11<00:00, 901.34it/s]\n"
     ]
    }
   ],
   "source": [
    "# Note: Training for all 120 breeds should yield better results (planned for Notebook V2)\n",
    "BREEDS = [\"beagle\", \"chihuahua\", \"doberman\",\"french_bulldog\", \"golden_retriever\", \"malamute\", \"pug\", \"saint_bernard\", \"scottish_deerhound\", \"tibetan_mastif\"]\n",
    "\n",
    "data_dir = '/content/'\n",
    "data_df = pd.read_csv(os.path.join(data_dir, 'labels.csv'))\n",
    "data_df = data_df[data_df.breed.isin(BREEDS)]\n",
    "\n",
    "# Note: No images with label \"tibetan_mastif\" were found in the training set, hence only 9 classes were found after filtering\n",
    "class_names = sorted(data_df['breed'].unique())\n",
    "images_list = sorted(os.listdir(os.path.join(data_dir, 'train')))\n",
    "to_size = (244, 244)\n",
    "\n",
    "X = []\n",
    "Y = []\n",
    "\n",
    "for image in tqdm.tqdm(images_list):\n",
    "    try:\n",
    "      cls_name = data_df[data_df['id'] == image[:-4]].iloc[0,1]\n",
    "    except IndexError:\n",
    "      continue\n",
    "    cls_index  = int(class_names.index(cls_name)) \n",
    "    image_path = os.path.join(data_dir, 'train',image)\n",
    "    orig_image = cv2.cvtColor(cv2.imread(image_path), cv2.COLOR_BGR2RGB)\n",
    "    res_image  = cv2.resize(orig_image, to_size)\n",
    "\n",
    "    X.append(res_image)\n",
    "    Y.append(cls_index)"
   ]
  },
  {
   "cell_type": "markdown",
   "metadata": {
    "id": "AKDUMCnYTpai"
   },
   "source": [
    "# Converting to arrays"
   ]
  },
  {
   "cell_type": "code",
   "execution_count": null,
   "metadata": {
    "colab": {
     "base_uri": "https://localhost:8080/"
    },
    "executionInfo": {
     "elapsed": 15002,
     "status": "ok",
     "timestamp": 1615925484752,
     "user": {
      "displayName": "Karan Parekh",
      "photoUrl": "",
      "userId": "11632163322674208258"
     },
     "user_tz": -330
    },
    "id": "YFXj2rSo38LC",
    "outputId": "43278948-4d23-40b5-8fa6-451132d3e218"
   },
   "outputs": [
    {
     "name": "stdout",
     "output_type": "stream",
     "text": [
      "772 772\n",
      "(772, 244, 244, 3) (772, 1)\n"
     ]
    },
    {
     "data": {
      "text/plain": [
       "4065"
      ]
     },
     "execution_count": 23,
     "metadata": {
      "tags": []
     },
     "output_type": "execute_result"
    }
   ],
   "source": [
    "print(len(X), len(Y))\n",
    "Xarr = np.array(X)\n",
    "Yarr = np.array(Y).reshape(-1,1)\n",
    "\n",
    "del(X)\n",
    "print(Xarr.shape, Yarr.shape)\n",
    "gc.collect()"
   ]
  },
  {
   "cell_type": "markdown",
   "metadata": {},
   "source": [
    "# Preprocessing function\n",
    "**Notebook V1.2 will augment images in this function and increase training data**"
   ]
  },
  {
   "cell_type": "code",
   "execution_count": null,
   "metadata": {
    "id": "DmlsHj0kxgXU"
   },
   "outputs": [],
   "source": [
    "def preprocess_data(X, Y):\n",
    "  X_p = K.applications.resnet50.preprocess_input(X)\n",
    "  Y_p = K.utils.to_categorical(Y, 10)\n",
    "  return X_p, Y_p"
   ]
  },
  {
   "cell_type": "markdown",
   "metadata": {},
   "source": [
    "# Splitting train and test data"
   ]
  },
  {
   "cell_type": "code",
   "execution_count": null,
   "metadata": {
    "colab": {
     "base_uri": "https://localhost:8080/"
    },
    "executionInfo": {
     "elapsed": 15573,
     "status": "ok",
     "timestamp": 1615925485337,
     "user": {
      "displayName": "Karan Parekh",
      "photoUrl": "",
      "userId": "11632163322674208258"
     },
     "user_tz": -330
    },
    "id": "4fytudBB3y9B",
    "outputId": "afd95857-1a9a-48f2-ed48-99a614f0e683"
   },
   "outputs": [
    {
     "name": "stdout",
     "output_type": "stream",
     "text": [
      "(517, 244, 244, 3) (517, 1)\n",
      "(517, 244, 244, 3) (517, 10)\n"
     ]
    }
   ],
   "source": [
    "x_train, x_test, y_train, y_test = train_test_split(Xarr, Yarr, test_size=0.33, random_state=42)\n",
    "print(x_train.shape, y_train.shape)\n",
    "\n",
    "x_train, y_train = preprocess_data(x_train, y_train)\n",
    "x_test, y_test = preprocess_data(x_test, y_test)\n",
    "print(x_train.shape, y_train.shape)"
   ]
  },
  {
   "cell_type": "markdown",
   "metadata": {},
   "source": [
    "# Preparing Resnet model"
   ]
  },
  {
   "cell_type": "markdown",
   "metadata": {},
   "source": [
    "**Setting input layer and freezing first 142 layers as per imagenet weights**"
   ]
  },
  {
   "cell_type": "code",
   "execution_count": null,
   "metadata": {
    "id": "vMnodzpFBdXF"
   },
   "outputs": [],
   "source": [
    "input_tensor = K.Input(shape=(244, 244, 3))\n",
    "res_model = K.applications.ResNet50(include_top=False, weights=\"imagenet\", input_tensor=input_tensor)\n",
    "\n",
    "for layer in res_model.layers[:143]:\n",
    "  layer.trainable = False"
   ]
  },
  {
   "cell_type": "code",
   "execution_count": null,
   "metadata": {
    "id": "Gj-s9dxoDSg-"
   },
   "outputs": [],
   "source": [
    "model = K.models.Sequential()\n",
    "model.add(res_model)\n",
    "model.add(K.layers.Flatten())\n",
    "model.add(K.layers.BatchNormalization())\n",
    "model.add(K.layers.Dense(256, activation='relu'))\n",
    "model.add(K.layers.Dropout(0.5))\n",
    "model.add(K.layers.BatchNormalization())\n",
    "model.add(K.layers.Dense(128, activation='relu'))\n",
    "model.add(K.layers.Dropout(0.5))\n",
    "model.add(K.layers.BatchNormalization())\n",
    "model.add(K.layers.Dense(64, activation='relu'))\n",
    "model.add(K.layers.Dropout(0.5))\n",
    "model.add(K.layers.BatchNormalization())\n",
    "model.add(K.layers.Dense(10, activation='softmax'))"
   ]
  },
  {
   "cell_type": "markdown",
   "metadata": {},
   "source": [
    "# Training model"
   ]
  },
  {
   "cell_type": "code",
   "execution_count": null,
   "metadata": {
    "colab": {
     "base_uri": "https://localhost:8080/"
    },
    "executionInfo": {
     "elapsed": 2163013,
     "status": "ok",
     "timestamp": 1615927632822,
     "user": {
      "displayName": "Karan Parekh",
      "photoUrl": "",
      "userId": "11632163322674208258"
     },
     "user_tz": -330
    },
    "id": "Le6ss1sBGMq_",
    "outputId": "78f694ad-eb27-43b7-faf6-e9528311a5df"
   },
   "outputs": [
    {
     "name": "stdout",
     "output_type": "stream",
     "text": [
      "Epoch 1/10\n",
      "17/17 [==============================] - 221s 13s/step - loss: 2.9853 - accuracy: 0.1052 - val_loss: 2.6030 - val_accuracy: 0.1294\n",
      "Epoch 2/10\n",
      "17/17 [==============================] - 209s 12s/step - loss: 2.7507 - accuracy: 0.1217 - val_loss: 2.2062 - val_accuracy: 0.1961\n",
      "Epoch 3/10\n",
      "17/17 [==============================] - 210s 12s/step - loss: 2.6883 - accuracy: 0.1359 - val_loss: 2.0243 - val_accuracy: 0.2706\n",
      "Epoch 4/10\n",
      "17/17 [==============================] - 215s 13s/step - loss: 2.4606 - accuracy: 0.1825 - val_loss: 1.8790 - val_accuracy: 0.4000\n",
      "Epoch 5/10\n",
      "17/17 [==============================] - 210s 12s/step - loss: 2.3472 - accuracy: 0.1982 - val_loss: 1.8325 - val_accuracy: 0.4941\n",
      "Epoch 6/10\n",
      "17/17 [==============================] - 210s 13s/step - loss: 2.4637 - accuracy: 0.1646 - val_loss: 1.7738 - val_accuracy: 0.5451\n",
      "Epoch 7/10\n",
      "17/17 [==============================] - 216s 13s/step - loss: 2.3263 - accuracy: 0.2302 - val_loss: 1.7268 - val_accuracy: 0.6078\n",
      "Epoch 8/10\n",
      "17/17 [==============================] - 210s 12s/step - loss: 2.0728 - accuracy: 0.2831 - val_loss: 1.6975 - val_accuracy: 0.6235\n",
      "Epoch 9/10\n",
      "17/17 [==============================] - 210s 12s/step - loss: 2.1905 - accuracy: 0.3129 - val_loss: 1.6481 - val_accuracy: 0.6392\n",
      "Epoch 10/10\n",
      "17/17 [==============================] - 217s 13s/step - loss: 2.1028 - accuracy: 0.2837 - val_loss: 1.6195 - val_accuracy: 0.6706\n",
      "Model: \"sequential_1\"\n",
      "_________________________________________________________________\n",
      "Layer (type)                 Output Shape              Param #   \n",
      "=================================================================\n",
      "resnet50 (Functional)        (None, 8, 8, 2048)        23587712  \n",
      "_________________________________________________________________\n",
      "flatten_1 (Flatten)          (None, 131072)            0         \n",
      "_________________________________________________________________\n",
      "batch_normalization_4 (Batch (None, 131072)            524288    \n",
      "_________________________________________________________________\n",
      "dense_4 (Dense)              (None, 256)               33554688  \n",
      "_________________________________________________________________\n",
      "dropout_3 (Dropout)          (None, 256)               0         \n",
      "_________________________________________________________________\n",
      "batch_normalization_5 (Batch (None, 256)               1024      \n",
      "_________________________________________________________________\n",
      "dense_5 (Dense)              (None, 128)               32896     \n",
      "_________________________________________________________________\n",
      "dropout_4 (Dropout)          (None, 128)               0         \n",
      "_________________________________________________________________\n",
      "batch_normalization_6 (Batch (None, 128)               512       \n",
      "_________________________________________________________________\n",
      "dense_6 (Dense)              (None, 64)                8256      \n",
      "_________________________________________________________________\n",
      "dropout_5 (Dropout)          (None, 64)                0         \n",
      "_________________________________________________________________\n",
      "batch_normalization_7 (Batch (None, 64)                256       \n",
      "_________________________________________________________________\n",
      "dense_7 (Dense)              (None, 10)                650       \n",
      "=================================================================\n",
      "Total params: 57,710,282\n",
      "Trainable params: 48,835,530\n",
      "Non-trainable params: 8,874,752\n",
      "_________________________________________________________________\n"
     ]
    }
   ],
   "source": [
    "check_point = K.callbacks.ModelCheckpoint(filepath='dogbreeds.h5', monitor='val_accuracy', mode='max', save_best_only=True)\n",
    "model.compile(loss='categorical_crossentropy', \n",
    "              optimizer=K.optimizers.RMSprop(lr=2e-5),\n",
    "              metrics=['accuracy'])\n",
    "history = model.fit(x_train, y_train, batch_size=32, epochs=10, verbose=1, validation_data=(x_test, y_test), callbacks=[check_point])\n",
    "model.summary()"
   ]
  },
  {
   "cell_type": "code",
   "execution_count": null,
   "metadata": {
    "id": "sPglyBvYfvO3"
   },
   "outputs": [],
   "source": []
  }
 ],
 "metadata": {
  "colab": {
   "authorship_tag": "ABX9TyPzYTCEpQo2zDR9rdaaWJSE",
   "collapsed_sections": [],
   "name": "v1 Kenneth - dog breed clf",
   "provenance": []
  },
  "kernelspec": {
   "display_name": "Python 3",
   "language": "python",
   "name": "python3"
  },
  "language_info": {
   "codemirror_mode": {
    "name": "ipython",
    "version": 3
   },
   "file_extension": ".py",
   "mimetype": "text/x-python",
   "name": "python",
   "nbconvert_exporter": "python",
   "pygments_lexer": "ipython3",
   "version": "3.7.4"
  }
 },
 "nbformat": 4,
 "nbformat_minor": 1
}
